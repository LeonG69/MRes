{
 "cells": [
  {
   "cell_type": "code",
   "execution_count": 1,
   "metadata": {},
   "outputs": [],
   "source": [
    "import circuitq as cq\n",
    "\n",
    "import networkx as nx\n",
    "import numpy as np\n",
    "import matplotlib.pyplot as plt"
   ]
  },
  {
   "cell_type": "code",
   "execution_count": 3,
   "metadata": {},
   "outputs": [],
   "source": [
    "#Initialize fluxonium circuit\n",
    "graph = nx.MultiGraph()\n",
    "graph.add_edge(0,1, element = 'C')\n",
    "graph.add_edge(0,1, element = 'J')\n",
    "graph.add_edge(0,1, element = 'L')\n",
    "\n",
    "circuit = cq.CircuitQ(graph)\n",
    "#cq.visualize_circuit_general(graph, 'Fluxonium circuit')"
   ]
  },
  {
   "cell_type": "code",
   "execution_count": 4,
   "metadata": {},
   "outputs": [
    {
     "data": {
      "text/latex": [
       "$\\displaystyle - E_{J010} \\cos{\\left(\\frac{\\Phi_{1}}{\\Phi_{o}} \\right)} + \\frac{\\left(\\Phi_{1} + \\tilde{\\Phi}_{010}\\right)^{2}}{2 L_{010}} + \\frac{0.5 q_{1}^{2}}{C_{01}}$"
      ],
      "text/plain": [
       "-E_{J010}*cos(\\Phi_{1}/\\Phi_{o}) + (\\Phi_{1} + \\tilde{\\Phi}_{010})**2/(2*L_{010}) + 0.5*q_{1}**2/C_{01}"
      ]
     },
     "execution_count": 4,
     "metadata": {},
     "output_type": "execute_result"
    }
   ],
   "source": [
    "circuit.h"
   ]
  },
  {
   "cell_type": "code",
   "execution_count": 5,
   "metadata": {},
   "outputs": [
    {
     "data": {
      "text/plain": [
       "[C_{01}, E_{J010}, L_{010}, \\tilde{\\Phi}_{010}]"
      ]
     },
     "execution_count": 5,
     "metadata": {},
     "output_type": "execute_result"
    }
   ],
   "source": [
    "circuit.h_parameters"
   ]
  },
  {
   "cell_type": "code",
   "execution_count": 6,
   "metadata": {},
   "outputs": [],
   "source": [
    "h = 6.62606957e-34\n",
    "EJ = circuit.c_v[\"E\"]/3\n",
    "phi_ext = np.pi*circuit.phi_0"
   ]
  },
  {
   "cell_type": "code",
   "execution_count": 7,
   "metadata": {},
   "outputs": [],
   "source": [
    "h_num = circuit.get_numerical_hamiltonian(401,\n",
    "                    parameter_values=[False, EJ, False, phi_ext ])\n",
    "\n",
    "                    "
   ]
  },
  {
   "cell_type": "code",
   "execution_count": 8,
   "metadata": {},
   "outputs": [],
   "source": [
    "eigv, eigs = circuit.get_eigensystem()"
   ]
  },
  {
   "cell_type": "code",
   "execution_count": 9,
   "metadata": {},
   "outputs": [
    {
     "data": {
      "image/png": "[encoded data removed]",
      "text/plain": [
       "<Figure size 432x288 with 1 Axes>"
      ]
     },
     "metadata": {
      "needs_background": "light"
     },
     "output_type": "display_data"
    }
   ],
   "source": [
    "y_scaling = 1/(h *1e9)\n",
    "plt.plot(circuit.flux_list, np.array(circuit.potential)*y_scaling, lw=1.5)\n",
    "for n in range(5):\n",
    "    plt.plot(circuit.flux_list,\n",
    "             (eigv[n]+ abs(eigs[:,n])**2*2e-23)*y_scaling\n",
    "             ,label=\"Eigenstate \" +str(n))\n",
    "plt.legend()\n",
    "plt.xlabel(r\"$\\Phi_1 / \\Phi_o$\")\n",
    "plt.ylabel(r\"Energy in GHz$\\cdot$h\")\n",
    "plt.xticks(np.linspace(-2*np.pi, 1*np.pi, 4)*circuit.phi_0 ,\n",
    "           [r'$-2\\pi$', r'$-\\pi$',r'$0$',r'$\\pi$'])\n",
    "plt.xlim(-2.5*np.pi*circuit.phi_0, 1.5*np.pi*circuit.phi_0)\n",
    "plt.ylim(1,10)\n",
    "plt.show()"
   ]
  },
  {
   "cell_type": "code",
   "execution_count": 10,
   "metadata": {},
   "outputs": [
    {
     "data": {
      "text/plain": [
       "1"
      ]
     },
     "execution_count": 10,
     "metadata": {},
     "output_type": "execute_result"
    }
   ],
   "source": [
    "circuit.get_spectrum_anharmonicity()"
   ]
  },
  {
   "cell_type": "code",
   "execution_count": 12,
   "metadata": {},
   "outputs": [
    {
     "name": "stdout",
     "output_type": "stream",
     "text": [
      "Quasiparticles noise contribution T1 = 3.223110e-04 s\n"
     ]
    }
   ],
   "source": [
    "T1_qp = circuit.get_T1_quasiparticles()\n",
    "print(\"Quasiparticles noise contribution T1 = {:e} s\".format(T1_qp))"
   ]
  },
  {
   "cell_type": "code",
   "execution_count": 13,
   "metadata": {},
   "outputs": [
    {
     "name": "stdout",
     "output_type": "stream",
     "text": [
      "Charge noise contribution T1 = 1.576770e-02 s\n"
     ]
    }
   ],
   "source": [
    "T1_c = circuit.get_T1_dielectric_loss()\n",
    "print(\"Charge noise contribution T1 = {:e} s\".format(T1_c))"
   ]
  },
  {
   "cell_type": "code",
   "execution_count": 14,
   "metadata": {},
   "outputs": [
    {
     "name": "stdout",
     "output_type": "stream",
     "text": [
      "Flux noise contribution T1 = 2.246226e-02 s\n"
     ]
    }
   ],
   "source": [
    "T1_f = circuit.get_T1_flux()\n",
    "print(\"Flux noise contribution T1 = {:e} s\".format(T1_f))"
   ]
  },
  {
   "cell_type": "code",
   "execution_count": 15,
   "metadata": {},
   "outputs": [
    {
     "name": "stdout",
     "output_type": "stream",
     "text": [
      "Total T1 = 3.114747e-04 s\n"
     ]
    }
   ],
   "source": [
    "print(\"Total T1 = {:e} s\".format( 1/( 1/T1_qp + 1/T1_c + 1/T1_f)))"
   ]
  },
  {
   "cell_type": "code",
   "execution_count": null,
   "metadata": {},
   "outputs": [],
   "source": []
  }
 ],
 "metadata": {
  "interpreter": {
   "hash": "6ba61273e563b38b01ec685cd13e3d42757fcdd5d4e1da9084b4f330826cf182"
  },
  "kernelspec": {
   "display_name": "Python 3.10.4 ('mres')",
   "language": "python",
   "name": "python3"
  },
  "language_info": {
   "codemirror_mode": {
    "name": "ipython",
    "version": 3
   },
   "file_extension": ".py",
   "mimetype": "text/x-python",
   "name": "python",
   "nbconvert_exporter": "python",
   "pygments_lexer": "ipython3",
   "version": "3.10.4"
  },
  "orig_nbformat": 4
 },
 "nbformat": 4,
 "nbformat_minor": 2
}
