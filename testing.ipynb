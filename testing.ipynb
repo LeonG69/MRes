{
 "cells": [
  {
   "cell_type": "code",
   "execution_count": 1,
   "metadata": {},
   "outputs": [],
   "source": [
    "%matplotlib inline\n",
    "import matplotlib.pyplot as plt\n",
    "import numpy as np\n",
    "from qutip import *"
   ]
  },
  {
   "cell_type": "code",
   "execution_count": 16,
   "metadata": {},
   "outputs": [
    {
     "name": "stdout",
     "output_type": "stream",
     "text": [
      "1.033916924267275  ps\n"
     ]
    }
   ],
   "source": [
    "hbar = 1.054571817e-34\n",
    "C = 1e-12 # Circuit capacitance 1 pF\n",
    "C_c = 1e-15 # Coupling capacitance 1 fF\n",
    "C_tot = C + C_c\n",
    "omega = 2*np.pi*5e9 # qubit frequency 5 GHz\n",
    "T_sep = 2*np.pi/omega # time between pulses\n",
    "K_j = 483597.8484e9 # flux quantum Hz/V\n",
    "V_max = 2e-3 # pulse height 2 mV\n",
    "pulse_width = 1/(V_max*K_j)\n",
    "print(pulse_width*1e12,' ps')"
   ]
  },
  {
   "cell_type": "code",
   "execution_count": 35,
   "metadata": {},
   "outputs": [],
   "source": [
    "def ddf(x,width):\n",
    "    val = np.zeros_like(x)\n",
    "    val[(-(width/2)<=x) & (x<=(width/2))] = 1\n",
    "    return val\n",
    "\n",
    "def sfq_pulses(n,T_sep):\n",
    "    t = np.linspace(0,T_sep*n,n*1000)\n",
    "    pulses = V_max*ddf(t,pulse_width)\n",
    "    for i in range(n):\n",
    "        pulses = np.add(pulses,V_max*ddf(t-T_sep*(i+1),pulse_width))\n",
    "    return t,pulses\n"
   ]
  },
  {
   "cell_type": "code",
   "execution_count": 38,
   "metadata": {},
   "outputs": [
    {
     "data": {
      "text/plain": [
       "[<matplotlib.lines.Line2D at 0x7fad19309eb0>]"
      ]
     },
     "execution_count": 38,
     "metadata": {},
     "output_type": "execute_result"
    },
    {
     "data": {
      "image/png": "[encoded data removed]",
      "text/plain": [
       "<Figure size 432x288 with 1 Axes>"
      ]
     },
     "metadata": {
      "needs_background": "light"
     },
     "output_type": "display_data"
    }
   ],
   "source": [
    "t,pulses = sfq_pulses(10,T_sep)\n",
    "plt.plot(t,pulses)"
   ]
  },
  {
   "cell_type": "code",
   "execution_count": null,
   "metadata": {},
   "outputs": [],
   "source": [
    "V_sfq = sfq_pulses(40,T_sep)\n",
    "\n",
    "def transmon_hamiltonian(Ec=0.386, EjEc=45, nstates=8, ng=0.0, T=10.0):\n",
    "    \"\"\"Transmon Hamiltonian\n",
    "\n",
    "    Args:\n",
    "        Ec: capacitive energy\n",
    "        EjEc: ratio `Ej` / `Ec`\n",
    "        nstates: defines the maximum and minimum states for the basis. The\n",
    "            truncated basis will have a total of ``2*nstates + 1`` states\n",
    "\n",
    "        ng: offset charge\n",
    "        T: gate duration\n",
    "    \"\"\"\n",
    "\n",
    "    Ej = EjEc * Ec\n",
    "    n = np.arange(-nstates, nstates + 1)\n",
    "    up = np.diag(np.ones(2 * nstates), k=-1)\n",
    "    do = up.T\n",
    "    H0 = qutip.Qobj(np.diag(4 * Ec * (n - ng) ** 2) - Ej * (up + do) / 2.0)\n",
    "    H1 = qutip.Qobj(-2 * np.diag(n))\n",
    "\n",
    "    return [H0, [H1, V_sfq]]"
   ]
  }
 ],
 "metadata": {
  "interpreter": {
   "hash": "a2055c38ff0402cbec5d4bf1322c4b6c23fe8e18aad07fcf374e6062953fbc03"
  },
  "kernelspec": {
   "display_name": "Python 3.8.8 ('base')",
   "language": "python",
   "name": "python3"
  },
  "language_info": {
   "codemirror_mode": {
    "name": "ipython",
    "version": 3
   },
   "file_extension": ".py",
   "mimetype": "text/x-python",
   "name": "python",
   "nbconvert_exporter": "python",
   "pygments_lexer": "ipython3",
   "version": "3.8.8"
  },
  "orig_nbformat": 4
 },
 "nbformat": 4,
 "nbformat_minor": 2
}
