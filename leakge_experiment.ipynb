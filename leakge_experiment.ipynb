{
 "cells": [
  {
   "cell_type": "code",
   "execution_count": 1,
   "metadata": {},
   "outputs": [],
   "source": [
    "%matplotlib inline\n",
    "import matplotlib.pyplot as plt\n",
    "import numpy as np\n",
    "from qutip import *\n",
    "from scipy import interpolate as sp\n",
    "import csv"
   ]
  },
  {
   "cell_type": "code",
   "execution_count": 2,
   "metadata": {},
   "outputs": [
    {
     "name": "stdout",
     "output_type": "stream",
     "text": [
      "pulse width =  2.0  ps\n",
      "Seperation time =  2000.0000000000002  ps\n",
      "delta theta =  0.07960758482367863\n",
      "pulses for a pi rotation =  39.463484045497026\n",
      "Total time for a pi rotation=  40.0  ns\n",
      "n =  39\n",
      "expected rotation angle =  177.8859664774331  degrees\n",
      "<Z> = -0.9993193886166417\n",
      "Quantum object: dims = [[3], [3]], shape = (3, 3), type = oper, isherm = True\n",
      "Qobj data =\n",
      "[[0.00000000e+00 0.00000000e+00 0.00000000e+00]\n",
      " [0.00000000e+00 3.14159265e+09 0.00000000e+00]\n",
      " [0.00000000e+00 0.00000000e+00 5.02654825e+11]]\n",
      "Quantum object: dims = [[3], [3]], shape = (3, 3), type = oper, isherm = True\n",
      "Qobj data =\n",
      "[[0.+0.00000000e+00j 0.-1.92490292e+13j 0.+0.00000000e+00j]\n",
      " [0.+1.92490292e+13j 0.+0.00000000e+00j 0.-2.72222382e+13j]\n",
      " [0.+0.00000000e+00j 0.+2.72222382e+13j 0.+0.00000000e+00j]]\n"
     ]
    }
   ],
   "source": [
    "hbar = 1.054571817e-34\n",
    "C = 1e-12 # Circuit capacitance 1 pF\n",
    "C_c = 5e-15 # Coupling capacitance 1 fF\n",
    "C_tot = C + C_c\n",
    "\n",
    "omega_10 = 2*np.pi*5e8 # 500 MHz\n",
    "omega_20 = 2*np.pi*8e10 # 8 GHz\n",
    "\n",
    "T_sep = 2*np.pi/omega_10 # time between pulses\n",
    "K_j = 483597.8484e9 # flux quantum Hz/V\n",
    "Phi_0 = 2.067833758e-15 # flux quantum Wb\n",
    "V_max = 2e-3 # pulse height 2 mV\n",
    "pulse_width = 1/(V_max*K_j)\n",
    "pulse_width = 2e-12\n",
    "delta_theta = C_c*Phi_0*np.sqrt((2*omega_10)/(hbar*C_tot))\n",
    "T_tot = (int(np.pi/(2*delta_theta)) + 1) * T_sep\n",
    "n = round(np.pi/(delta_theta))\n",
    "print(\"pulse width = \",pulse_width*1e12,' ps')\n",
    "print(\"Seperation time = \",T_sep*1e12,' ps')\n",
    "print(\"delta theta = \",delta_theta)\n",
    "print(\"pulses for a pi rotation = \",np.pi/(delta_theta))\n",
    "print(\"Total time for a pi rotation= \",T_tot*1e9,' ns')\n",
    "print(\"n = \", n)\n",
    "print(\"expected rotation angle = \",n*delta_theta*180/np.pi,' degrees')\n",
    "print(\"<Z> =\", (np.cos(n*delta_theta)))\n",
    "\n",
    "b = C_c*np.sqrt(hbar * omega_10 /(2*C_tot)) * (1/hbar) \n",
    "\n",
    "free_matrix = [0,0,0],[0,omega_10,0],[0,0,omega_20]\n",
    "H_free = Qobj(free_matrix)\n",
    "\n",
    "H_sfq = 1j*b*(create(3) - destroy(3))\n",
    "\n",
    "Sz = [1,0,0],[0,0,0],[0,0,-1]\n",
    "Sz = Qobj(Sz)\n",
    "#Sx = [0,1/np.sqrt(2),0],[1/np.sqrt(2),0,1/np.sqrt(2)],[0,1/np.sqrt(2),0]\n",
    "Sx = create(3) + destroy(3)\n",
    "Sy =  1j * (create(3) - destroy(3))\n",
    "\n",
    "print(H_free)\n",
    "print(H_sfq)"
   ]
  },
  {
   "cell_type": "code",
   "execution_count": 3,
   "metadata": {},
   "outputs": [
    {
     "name": "stdout",
     "output_type": "stream",
     "text": [
      "pulse width =  2.0  ps\n"
     ]
    },
    {
     "data": {
      "image/png": "[encoded data removed]",
      "text/plain": [
       "<Figure size 432x288 with 1 Axes>"
      ]
     },
     "metadata": {
      "needs_background": "light"
     },
     "output_type": "display_data"
    },
    {
     "data": {
      "image/png": "[encoded data removed]",
      "text/plain": [
       "<Figure size 432x288 with 1 Axes>"
      ]
     },
     "metadata": {
      "needs_background": "light"
     },
     "output_type": "display_data"
    },
    {
     "data": {
      "image/png": "[encoded data removed]",
      "text/plain": [
       "<Figure size 432x288 with 1 Axes>"
      ]
     },
     "metadata": {
      "needs_background": "light"
     },
     "output_type": "display_data"
    }
   ],
   "source": [
    "def normal_dist(x,x0,sigma):\n",
    "    return 1/(sigma*np.sqrt(2*np.pi))*np.exp(-(x-x0)**2/(2*sigma**2))\n",
    "\n",
    "t_delay = 10e-12\n",
    "n_steps = 1e6\n",
    "\n",
    "times = np.linspace(0,t_delay + 5*pulse_width,int(n_steps))\n",
    "\n",
    "\n",
    "\n",
    "print(\"pulse width = \",pulse_width*1e12,' ps')\n",
    "\n",
    "\n",
    "plt.plot(times,Phi_0*normal_dist(times-t_delay,pulse_width/2,pulse_width))\n",
    "plt.show()\n",
    "\n",
    "#n=3\n",
    "\n",
    "def normal_sfq(n,t_delay,pulse_width,T_sep,n_steps):\n",
    "    n_steps = int(n_steps)\n",
    "    t = np.linspace(0,t_delay + pulse_width/2 + n*T_sep,n_steps)\n",
    "    pulse = Phi_0*normal_dist(t,t_delay + pulse_width/2,pulse_width)\n",
    "    for i in range(n-1):\n",
    "        pulse = np.add(pulse,Phi_0*normal_dist(t,t_delay + (pulse_width/2) + (i+1)*T_sep,pulse_width))\n",
    "    return t,pulse\n",
    "\n",
    "t,pulse = normal_sfq(n,t_delay,pulse_width,T_sep,n_steps)\n",
    "pulse_func = sp.interp1d(t,pulse)\n",
    "\n",
    "plt.plot(t,pulse)\n",
    "plt.plot(t,pulse_func(t))\n",
    "plt.show()\n",
    "\n",
    "plt.plot(t,pulse)\n",
    "plt.plot(t,pulse_func(t))\n",
    "plt.xlim(t_delay,t_delay + 3*pulse_width+ T_sep)\n",
    "plt.show()"
   ]
  },
  {
   "cell_type": "code",
   "execution_count": 4,
   "metadata": {},
   "outputs": [],
   "source": [
    "def csv_reader(filename):\n",
    "    with open(filename, 'r') as csvfile:\n",
    "        reader = csv.reader(csvfile)\n",
    "        data = list(reader)\n",
    "    return data"
   ]
  },
  {
   "cell_type": "code",
   "execution_count": 5,
   "metadata": {},
   "outputs": [
    {
     "name": "stdout",
     "output_type": "stream",
     "text": [
      "[0.  0.2 0.4 0.6 0.8 1.  1.2 1.4 1.6 1.8 2.  2.2 2.4 2.6 2.8 3.  3.2 3.4\n",
      " 3.6 3.8 4.  4.2 4.4 4.6 4.8 5.  5.2 5.4 5.6 5.8 6.  6.2 6.4 6.6 6.8 7.\n",
      " 7.2 7.4 7.6 7.8 8.  8.2 8.4 8.6 8.8 9.  9.2 9.4 9.6 9.8]\n",
      "omega_20 =  [1.0000000000000002, 1.1, 1.2, 1.3000000000000003, 1.4000000000000004, 1.5, 1.6000000000000003, 1.7000000000000004, 1.8000000000000003, 1.9000000000000004, 2.0000000000000004, 2.1000000000000005, 2.2000000000000006, 2.3000000000000003, 2.4000000000000004, 2.5, 2.6000000000000005, 2.7000000000000006, 2.8000000000000007, 2.900000000000001, 3.0, 3.1, 3.2000000000000006, 3.3000000000000003, 3.4000000000000012, 3.5000000000000004, 3.6000000000000005, 3.7, 3.800000000000001, 3.900000000000001, 4.000000000000001, 4.1000000000000005, 4.200000000000001, 4.300000000000001, 4.4, 4.5, 4.6000000000000005, 4.700000000000001, 4.8, 4.900000000000001, 5.000000000000001, 5.1000000000000005, 5.2, 5.3, 5.400000000000001, 5.500000000000001, 5.600000000000001, 5.700000000000001, 5.8000000000000025, 5.900000000000002]  GHz\n",
      "omega_10=  0.5  GHz\n",
      "freqs_tested:  [6283185307.179586, 6911503837.897545, 7539822368.615503, 8168140899.333463, 8796459430.051422, 9424777960.769379, 10053096491.487339, 10681415022.205297, 11309733552.923256, 11938052083.641214, 12566370614.359173, 13194689145.077133, 13823007675.795092, 14451326206.51305, 15079644737.231009, 15707963267.948965, 16336281798.666925, 16964600329.384884, 17592918860.102844, 18221237390.8208, 18849555921.538757, 19477874452.256718, 20106192982.974678, 20734511513.692635, 21362830044.4106, 21991148575.128555, 22619467105.84651, 23247785636.56447, 23876104167.282433, 24504422698.00039, 25132741228.718346, 25761059759.436302, 26389378290.154266, 27017696820.872223, 27646015351.59018, 28274333882.308136, 28902652413.0261, 29530970943.744057, 30159289474.462013, 30787608005.179977, 31415926535.897934, 32044245066.61589, 32672563597.333847, 33300882128.051804, 33929200658.769768, 34557519189.487724, 35185837720.20569, 35814156250.923645, 36442474781.64161, 37070793312.359566]\n"
     ]
    }
   ],
   "source": [
    "anharm_test = np.arange(0,10,0.2)\n",
    "print(anharm_test)\n",
    "omega_20_test = [(n*omega_10) + (2*omega_10) for n in anharm_test]\n",
    "omega_20_GHz = [i*1e-9*(1/(2*np.pi)) for i in omega_20_test]\n",
    "print(\"omega_20 = \",omega_20_GHz,\" GHz\")\n",
    "print(\"omega_10= \",omega_10/(2*np.pi*1e9),\" GHz\")\n",
    "print(\"freqs_tested: \",omega_20_test)\n"
   ]
  },
  {
   "cell_type": "code",
   "execution_count": null,
   "metadata": {},
   "outputs": [],
   "source": [
    "theta = np.pi #rotation angle\n",
    "n = round(theta/(delta_theta)) \n",
    "n_steps = 3e5\n",
    "t,pulse = normal_sfq(n,t_delay,pulse_width,T_sep,n_steps)\n",
    "pulse_func = sp.interp1d(t,pulse,fill_value = \"extrapolate\")\n",
    "\n",
    "t,pulse = normal_sfq(n,t_delay,pulse_width,T_sep,n_steps)\n",
    "pulse_func = sp.interp1d(t,pulse,fill_value = \"extrapolate\")\n",
    "\n",
    "for i in range(len(omega_20_test)):\n",
    "    omega_20 = omega_20_test[i]\n",
    "    \n",
    "    b = C_c*np.sqrt(hbar * omega_10 /(2*C_tot)) * (1/hbar) \n",
    "    free_matrix = [0,0,0],[0,omega_10,0],[0,0,omega_20]\n",
    "    H_free = Qobj(free_matrix)\n",
    "    H_sfq = 1j*b*(create(3) - destroy(3))\n",
    "\n",
    "    def H1_coeffs(t,args):\n",
    "        return pulse_func(t)\n",
    "\n",
    "    H = [H_free,[H_sfq,H1_coeffs]]\n",
    "\n",
    "    psi0 = basis(3, 0)\n",
    "    \n",
    "    result = sesolve(H, psi0, t,progress_bar=True)\n",
    "    \n",
    "    exp_0 = [abs(result.states[i][0]) for i in range(len(result.states))]\n",
    "    exp_0 = [(exp_0[i][0][0])**2 for i in range(len(exp_0))]\n",
    "\n",
    "    exp_1 = [abs(result.states[i][1]) for i in range(len(result.states))]\n",
    "    exp_1 = [(exp_1[i][0][0])**2 for i in range(len(exp_1))]\n",
    "\n",
    "    exp_2 = [abs(result.states[i][2]) for i in range(len(result.states))]\n",
    "    exp_2 = [(exp_2[i][0][0])**2 for i in range(len(exp_2))]\n",
    "\n",
    "    print(((i+1)/len(omega_20_test))*100,'%')\n",
    "\n",
    "    path = \"C:\\Users\\leonm\\Documents\\MRes\\leakage_exp_data\"\n",
    "\n",
    "    filename = path+'\\data_'+str(round(omega_20_test[i]/1e9,2))+'GHz.csv'\n",
    "\n",
    "    with open(filename, 'w') as csvfile:\n",
    "        writer = csv.writer(csvfile)\n",
    "        for i in range(len(exp_0)):\n",
    "            writer.writerow([t[i],exp_0[i],exp_1[i],exp_2[i]])"
   ]
  },
  {
   "cell_type": "code",
   "execution_count": null,
   "metadata": {},
   "outputs": [],
   "source": [
    "P1 = []\n",
    "for freq in omega_20_test:\n",
    "    filename = 'data_'+str(round(freq/1e9,2))+'GHz.csv'\n",
    "    data = csv_reader(filename)\n",
    "    P1.append(float(data[-1][2]))"
   ]
  },
  {
   "cell_type": "code",
   "execution_count": null,
   "metadata": {},
   "outputs": [],
   "source": [
    "omega_20_GHz = [freq/(2*np.pi*1e9) for freq in omega_20_test]\n",
    "\n",
    "# f = sp.CubicSpline(omega_20_GHz,P1,)\n",
    "# omega_plot = np.linspace(min(omega_20_GHz),max(omega_20_GHz),100)\n",
    "# plt.plot(omega_plot,f(omega_plot))\n",
    "\n",
    "plt.plot(omega_20_GHz,P1,'o--')\n",
    "plt.xlabel(r'$\\omega_{20}/2\\pi$ (GHz)',fontsize = 16)\n",
    "plt.ylabel(r'$P_1$',fontsize=16)\n",
    "plt.xticks(fontsize = 16)\n",
    "plt.yticks(fontsize = 16)\n",
    "plt.savefig(\"P1_vs_omega_20_0p8_1p2GHz.png\", dpi = 300, bbox_inches = 'tight')\n",
    "plt.show()\n",
    "\n",
    "anharm_x100 = [i*100 for i in anharm_test]\n",
    "plt.plot(anharm_x100,P1,'o--')\n",
    "plt.xlabel(r'$\\eta$',fontsize = 16)\n",
    "plt.ylabel(r'$P_1$',fontsize=16)\n",
    "plt.xticks(fontsize = 16)\n",
    "plt.yticks(fontsize = 16)\n",
    "plt.savefig(\"P1_vs_anharm_tight.png\", dpi = 300, bbox_inches = 'tight')\n",
    "plt.show()"
   ]
  }
 ],
 "metadata": {
  "kernelspec": {
   "display_name": "Python 3.10.4 ('mres')",
   "language": "python",
   "name": "python3"
  },
  "language_info": {
   "codemirror_mode": {
    "name": "ipython",
    "version": 3
   },
   "file_extension": ".py",
   "mimetype": "text/x-python",
   "name": "python",
   "nbconvert_exporter": "python",
   "pygments_lexer": "ipython3",
   "version": "3.10.4"
  },
  "orig_nbformat": 4,
  "vscode": {
   "interpreter": {
    "hash": "6ba61273e563b38b01ec685cd13e3d42757fcdd5d4e1da9084b4f330826cf182"
   }
  }
 },
 "nbformat": 4,
 "nbformat_minor": 2
}
